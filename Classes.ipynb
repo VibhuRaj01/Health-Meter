{
 "cells": [
  {
   "cell_type": "code",
   "execution_count": 9,
   "id": "de7140f6",
   "metadata": {},
   "outputs": [],
   "source": [
    "import pandas as pd\n",
    "import numpy as np\n",
    "import os\n",
    "import pickle"
   ]
  },
  {
   "cell_type": "code",
   "execution_count": 10,
   "id": "17443097",
   "metadata": {},
   "outputs": [
    {
     "data": {
      "text/plain": [
       "'C:\\\\Users\\\\vibhu\\\\OneDrive\\\\Documents\\\\env\\\\projects\\\\website'"
      ]
     },
     "execution_count": 10,
     "metadata": {},
     "output_type": "execute_result"
    }
   ],
   "source": [
    "os.getcwd()"
   ]
  },
  {
   "cell_type": "markdown",
   "id": "0de19794-f9b7-40ec-895d-fd81309514e0",
   "metadata": {},
   "source": [
    "**Classes**"
   ]
  },
  {
   "cell_type": "code",
   "execution_count": 11,
   "id": "e41e7029",
   "metadata": {},
   "outputs": [],
   "source": [
    "class diabetes():\n",
    "  def __init__(self, input_data,*args,**kwargs):\n",
    "    self.input_data=input_data\n",
    "    self.model = None\n",
    "    self.file_path = None\n",
    "  def predict(self):\n",
    "    self.file_path = r\"models/diabetes_model.pickle\"\n",
    "    self.model = pickle.load(open(self.file_path, \"rb\"))\n",
    "    return self.model.predict(self.input_data)"
   ]
  },
  {
   "cell_type": "code",
   "execution_count": 12,
   "id": "cd1e5231",
   "metadata": {},
   "outputs": [],
   "source": [
    "class hepatitis():\n",
    "  def __init__(self, input_data,*args,**kwargs):\n",
    "    self.input_data=input_data\n",
    "    self.model = None\n",
    "    self.file_path = None\n",
    "  def predict(self):\n",
    "    self.file_path = r\"models/hepatitis_model.pickle\"\n",
    "    self.model = pickle.load(open(self.file_path, \"rb\"))\n",
    "    return self.model.predict(self.input_data)"
   ]
  },
  {
   "cell_type": "code",
   "execution_count": 13,
   "id": "dc81b654",
   "metadata": {},
   "outputs": [],
   "source": [
    "class cardio():\n",
    "  def __init__(self, input_data,*args,**kwargs):\n",
    "    self.input_data=input_data\n",
    "    self.model = None\n",
    "    self.file_path = None\n",
    "  def predict(self):\n",
    "    self.file_path = r\"models/cardio_model.pickle\"\n",
    "    self.model = pickle.load(open(self.file_path, \"rb\"))\n",
    "    return self.model.predict(self.input_data)"
   ]
  },
  {
   "cell_type": "code",
   "execution_count": 14,
   "id": "d3d76bd4",
   "metadata": {},
   "outputs": [],
   "source": [
    "class kidney():\n",
    "  def __init__(self, input_data,*args,**kwargs):\n",
    "    self.input_data=input_data\n",
    "    self.model = None\n",
    "    self.file_path = None\n",
    "  def predict(self):\n",
    "    self.file_path = r\"models/kidney_model.pickle\"\n",
    "    self.model = pickle.load(open(self.file_path, \"rb\"))\n",
    "    return self.model.predict(self.input_data)"
   ]
  },
  {
   "cell_type": "markdown",
   "id": "22b787a3-cc43-4cc3-b159-24b51e460d2b",
   "metadata": {},
   "source": [
    "**Testing**"
   ]
  },
  {
   "cell_type": "code",
   "execution_count": 16,
   "id": "8806534a-97f0-4538-9dec-873b7174f2c3",
   "metadata": {},
   "outputs": [
    {
     "name": "stdout",
     "output_type": "stream",
     "text": [
      "[1]\n"
     ]
    },
    {
     "name": "stderr",
     "output_type": "stream",
     "text": [
      "C:\\Users\\vibhu\\OneDrive\\Documents\\env\\lib\\site-packages\\sklearn\\base.py:439: UserWarning: X does not have valid feature names, but LogisticRegression was fitted with feature names\n",
      "  warnings.warn(\n"
     ]
    }
   ],
   "source": [
    "input_data = np.array([6,148,72,35,0,33.6,0.627,50])\n",
    "input_data = input_data.reshape(1, -1)\n",
    "bibu=diabetes(input_data)\n",
    "predictions = bibu.predict()\n",
    "print(predictions)"
   ]
  }
 ],
 "metadata": {
  "kernelspec": {
   "display_name": "env",
   "language": "python",
   "name": "env"
  },
  "language_info": {
   "codemirror_mode": {
    "name": "ipython",
    "version": 3
   },
   "file_extension": ".py",
   "mimetype": "text/x-python",
   "name": "python",
   "nbconvert_exporter": "python",
   "pygments_lexer": "ipython3",
   "version": "3.10.8"
  }
 },
 "nbformat": 4,
 "nbformat_minor": 5
}
